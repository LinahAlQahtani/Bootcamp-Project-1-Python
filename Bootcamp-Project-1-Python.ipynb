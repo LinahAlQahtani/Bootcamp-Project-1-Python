{
 "cells": [
  {
   "cell_type": "code",
   "execution_count": 2,
   "id": "a2953370",
   "metadata": {},
   "outputs": [
    {
     "name": "stdout",
     "output_type": "stream",
     "text": [
      "Welcom to our Book Store.\n",
      "Naruto, 45 : 49\n",
      "les miserables : 20\n",
      "Snow white and the seven dwarfs : 15\n",
      "staying strong 365 days a year : 89\n",
      "The name of the book you want is:les miserables\n",
      "The price of the chosen book is: 20\n",
      "Do you want to buy it? (yes , no)yes\n",
      "The book you bought has been added to your cart.\n",
      "Do you want to buy another book? (yes , no)yes\n",
      "The name of the book you want is:staying strong 365 days a year\n",
      "The price of the chosen book is: 89\n",
      "Do you want to buy it? (yes , no)yes\n",
      "The book you bought has been added to your cart.\n",
      "Do you want to buy another book? (yes , no)no\n",
      "Your cart has these books: ['les miserables', 'staying strong 365 days a year']\n",
      "Total price=  109\n"
     ]
    }
   ],
   "source": [
    "import functools  #to apply reduce method in lambda function\n",
    "    \n",
    "bookStore = {\"Naruto, 45\": 49 ,\n",
    "             \"les miserables\" : 20 , \n",
    "             \"Snow white and the seven dwarfs\" : 15 ,\n",
    "            \"staying strong 365 days a year\" : 89}\n",
    "\n",
    "bookCart=[]\n",
    "\n",
    "\n",
    "def buyBook():\n",
    "    \n",
    "    print (\"Welcom to our Book Store.\")\n",
    "    #To display the Books in the book store\n",
    "    for Key , Value in bookStore.items():\n",
    "        print(Key ,':',Value)\n",
    "\n",
    "    while True:\n",
    "       #let the user chose the wanted book\n",
    "        book = input (\"The name of the book you want is:\")\n",
    "        \n",
    "        if book in bookStore:\n",
    "            print (\"The price of the chosen book is:\" , bookStore[book ])\n",
    "            added = input( \"Do you want to buy it? (yes , no)\")\n",
    "            \n",
    "            if added.lower()== \"yes\" :\n",
    "                #add the chosen book to bookCart list\n",
    "                bookCart.append(book)\n",
    "                print(\"The book you bought has been added to your cart.\") \n",
    "                \n",
    "            else: \n",
    "                print (\"Thank you for visiting our book store\")\n",
    "                \n",
    "        else:\n",
    "            print(\"we don't have this book\")\n",
    "            \n",
    "         #if the customer want to add another book   \n",
    "        anotherBook = input (\"Do you want to buy another book? (yes , no)\")\n",
    "    \n",
    "        if anotherBook.lower()==\"no\":\n",
    "            break\n",
    "        \n",
    "def bill():\n",
    "    #to make sure the cart not empty\n",
    "    if len(bookCart)==0:\n",
    "        print(\"Your cart is empty.\")\n",
    "        \n",
    "    else:\n",
    "        #To display the Books in the cart\n",
    "        print(\"Your cart has these books:\", bookCart)\n",
    "        #here we used reduce() function from the funtools module to sum up the items in the list using lambda function \n",
    "        totalPrice = functools.reduce(lambda x, y: x+y ,[bookStore [book] for book in bookCart])\n",
    "        #The final total of the book store cart\n",
    "        print (\"Total price= \", totalPrice)\n",
    "        \n",
    "        \n",
    "buyBook()        \n",
    "bill()"
   ]
  }
 ],
 "metadata": {
  "kernelspec": {
   "display_name": "Python 3 (ipykernel)",
   "language": "python",
   "name": "python3"
  },
  "language_info": {
   "codemirror_mode": {
    "name": "ipython",
    "version": 3
   },
   "file_extension": ".py",
   "mimetype": "text/x-python",
   "name": "python",
   "nbconvert_exporter": "python",
   "pygments_lexer": "ipython3",
   "version": "3.11.3"
  }
 },
 "nbformat": 4,
 "nbformat_minor": 5
}
